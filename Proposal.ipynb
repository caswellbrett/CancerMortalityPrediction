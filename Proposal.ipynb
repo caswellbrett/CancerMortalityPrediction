{
 "cells": [
  {
   "cell_type": "markdown",
   "id": "4f5c1890-7606-4916-8605-0ad210b367bc",
   "metadata": {},
   "source": [
    "Cancer is one of the leading causes of death in the developed world. Therefore, it is crucial that we investigate the links between cancer mortality rates and demographic data in varying counties of the United States. Using a dataset imported from data.world that aggregates data from the American Community Survey, clinicaltrails.gov (a public clinical trial database), and the National Cancer Institute, we hope to predict the cancer mortality rate of a county using demographic data. Our question is the following: if given the median age and income of a county in the United States, what will be the cancer mortality rate of that county? Our claim is that a county with a higher median age and lower median income will lead to higher cancer mortality rates."
   ]
  },
  {
   "cell_type": "code",
   "execution_count": 49,
   "id": "b08be33b-b614-44c3-b918-ba4f6ef49801",
   "metadata": {},
   "outputs": [
    {
     "name": "stderr",
     "output_type": "stream",
     "text": [
      "\u001b[1mRows: \u001b[22m\u001b[34m3047\u001b[39m \u001b[1mColumns: \u001b[22m\u001b[34m34\u001b[39m\n",
      "\u001b[36m──\u001b[39m \u001b[1mColumn specification\u001b[22m \u001b[36m────────────────────────────────────────────────────────\u001b[39m\n",
      "\u001b[1mDelimiter:\u001b[22m \",\"\n",
      "\u001b[31mchr\u001b[39m  (2): binnedInc, Geography\n",
      "\u001b[32mdbl\u001b[39m (32): avgAnnCount, avgDeathsPerYear, TARGET_deathRate, incidenceRate, me...\n",
      "\n",
      "\u001b[36mℹ\u001b[39m Use `spec()` to retrieve the full column specification for this data.\n",
      "\u001b[36mℹ\u001b[39m Specify the column types or set `show_col_types = FALSE` to quiet this message.\n"
     ]
    },
    {
     "data": {
      "text/html": [
       "<table class=\"dataframe\">\n",
       "<caption>A tibble: 6 × 5</caption>\n",
       "<thead>\n",
       "\t<tr><th scope=col>medIncome</th><th scope=col>MedianAge</th><th scope=col>avgAnnCount</th><th scope=col>avgDeathsPerYear</th><th scope=col>TARGET_deathRate</th></tr>\n",
       "\t<tr><th scope=col>&lt;dbl&gt;</th><th scope=col>&lt;dbl&gt;</th><th scope=col>&lt;dbl&gt;</th><th scope=col>&lt;dbl&gt;</th><th scope=col>&lt;dbl&gt;</th></tr>\n",
       "</thead>\n",
       "<tbody>\n",
       "\t<tr><td>61898</td><td>39.3</td><td>1397</td><td>469</td><td>164.9</td></tr>\n",
       "\t<tr><td>48127</td><td>33.0</td><td> 173</td><td> 70</td><td>161.3</td></tr>\n",
       "\t<tr><td>49348</td><td>45.0</td><td> 102</td><td> 50</td><td>174.7</td></tr>\n",
       "\t<tr><td>44243</td><td>42.8</td><td> 427</td><td>202</td><td>194.8</td></tr>\n",
       "\t<tr><td>49955</td><td>48.3</td><td>  57</td><td> 26</td><td>144.4</td></tr>\n",
       "\t<tr><td>52313</td><td>45.4</td><td> 428</td><td>152</td><td>176.0</td></tr>\n",
       "</tbody>\n",
       "</table>\n"
      ],
      "text/latex": [
       "A tibble: 6 × 5\n",
       "\\begin{tabular}{lllll}\n",
       " medIncome & MedianAge & avgAnnCount & avgDeathsPerYear & TARGET\\_deathRate\\\\\n",
       " <dbl> & <dbl> & <dbl> & <dbl> & <dbl>\\\\\n",
       "\\hline\n",
       "\t 61898 & 39.3 & 1397 & 469 & 164.9\\\\\n",
       "\t 48127 & 33.0 &  173 &  70 & 161.3\\\\\n",
       "\t 49348 & 45.0 &  102 &  50 & 174.7\\\\\n",
       "\t 44243 & 42.8 &  427 & 202 & 194.8\\\\\n",
       "\t 49955 & 48.3 &   57 &  26 & 144.4\\\\\n",
       "\t 52313 & 45.4 &  428 & 152 & 176.0\\\\\n",
       "\\end{tabular}\n"
      ],
      "text/markdown": [
       "\n",
       "A tibble: 6 × 5\n",
       "\n",
       "| medIncome &lt;dbl&gt; | MedianAge &lt;dbl&gt; | avgAnnCount &lt;dbl&gt; | avgDeathsPerYear &lt;dbl&gt; | TARGET_deathRate &lt;dbl&gt; |\n",
       "|---|---|---|---|---|\n",
       "| 61898 | 39.3 | 1397 | 469 | 164.9 |\n",
       "| 48127 | 33.0 |  173 |  70 | 161.3 |\n",
       "| 49348 | 45.0 |  102 |  50 | 174.7 |\n",
       "| 44243 | 42.8 |  427 | 202 | 194.8 |\n",
       "| 49955 | 48.3 |   57 |  26 | 144.4 |\n",
       "| 52313 | 45.4 |  428 | 152 | 176.0 |\n",
       "\n"
      ],
      "text/plain": [
       "  medIncome MedianAge avgAnnCount avgDeathsPerYear TARGET_deathRate\n",
       "1 61898     39.3      1397        469              164.9           \n",
       "2 48127     33.0       173         70              161.3           \n",
       "3 49348     45.0       102         50              174.7           \n",
       "4 44243     42.8       427        202              194.8           \n",
       "5 49955     48.3        57         26              144.4           \n",
       "6 52313     45.4       428        152              176.0           "
      ]
     },
     "metadata": {},
     "output_type": "display_data"
    }
   ],
   "source": [
    "library(tidyverse)\n",
    "library(repr)\n",
    "library(tidymodels)\n",
    "library(dplyr)\n",
    "\n",
    "url <- \"https://raw.githubusercontent.com/mimilht/dsci100-proj-group70/main/cancer_reg.csv\"\n",
    "cancer_data <- read_csv(url)\n",
    "cancer_data <- cancer_data |> \n",
    "    select(medIncome, MedianAge, avgAnnCount, avgDeathsPerYear, TARGET_deathRate) |>\n",
    "    filter(na.rm = TRUE) |>\n",
    "    filter(MedianAge <= 100)\n",
    "head(cancer_data)"
   ]
  },
  {
   "cell_type": "code",
   "execution_count": 50,
   "id": "2b5254d5-8ec5-461a-a9ce-93768c2cb0db",
   "metadata": {},
   "outputs": [
    {
     "data": {
      "text/html": [
       "<table class=\"dataframe\">\n",
       "<caption>A tibble: 1 × 5</caption>\n",
       "<thead>\n",
       "\t<tr><th scope=col>medIncome</th><th scope=col>MedianAge</th><th scope=col>avgAnnCount</th><th scope=col>avgDeathsPerYear</th><th scope=col>TARGET_deathRate</th></tr>\n",
       "\t<tr><th scope=col>&lt;dbl&gt;</th><th scope=col>&lt;dbl&gt;</th><th scope=col>&lt;dbl&gt;</th><th scope=col>&lt;dbl&gt;</th><th scope=col>&lt;dbl&gt;</th></tr>\n",
       "</thead>\n",
       "<tbody>\n",
       "\t<tr><td>122641</td><td>65.3</td><td>38150</td><td>14010</td><td>293.9</td></tr>\n",
       "</tbody>\n",
       "</table>\n"
      ],
      "text/latex": [
       "A tibble: 1 × 5\n",
       "\\begin{tabular}{lllll}\n",
       " medIncome & MedianAge & avgAnnCount & avgDeathsPerYear & TARGET\\_deathRate\\\\\n",
       " <dbl> & <dbl> & <dbl> & <dbl> & <dbl>\\\\\n",
       "\\hline\n",
       "\t 122641 & 65.3 & 38150 & 14010 & 293.9\\\\\n",
       "\\end{tabular}\n"
      ],
      "text/markdown": [
       "\n",
       "A tibble: 1 × 5\n",
       "\n",
       "| medIncome &lt;dbl&gt; | MedianAge &lt;dbl&gt; | avgAnnCount &lt;dbl&gt; | avgDeathsPerYear &lt;dbl&gt; | TARGET_deathRate &lt;dbl&gt; |\n",
       "|---|---|---|---|---|\n",
       "| 122641 | 65.3 | 38150 | 14010 | 293.9 |\n",
       "\n"
      ],
      "text/plain": [
       "  medIncome MedianAge avgAnnCount avgDeathsPerYear TARGET_deathRate\n",
       "1 122641    65.3      38150       14010            293.9           "
      ]
     },
     "metadata": {},
     "output_type": "display_data"
    }
   ],
   "source": [
    "cancer_split <- initial_split(cancer_data, prop = 0.75, strata = TARGET_deathRate)\n",
    "cancer_training <- training(cancer_split)\n",
    "cancer_test <- testing(cancer_split)\n",
    "\n",
    "cancer_max <- map_df(cancer_training, max)\n",
    "cancer_max"
   ]
  },
  {
   "cell_type": "code",
   "execution_count": 51,
   "id": "ac3d153d-f1ff-4865-8e4b-b9e14451ad65",
   "metadata": {},
   "outputs": [
    {
     "name": "stderr",
     "output_type": "stream",
     "text": [
      "`stat_bin()` using `bins = 30`. Pick better value with `binwidth`.\n",
      "\n"
     ]
    },
    {
     "data": {
      "image/png": "[encoded data removed]",
      "text/plain": [
       "plot without title"
      ]
     },
     "metadata": {
      "image/png": {
       "height": 420,
       "width": 420
      }
     },
     "output_type": "display_data"
    }
   ],
   "source": [
    "cancer_plots <- ggplot(cancer_training, aes(x = MedianAge)) +\n",
    "    geom_histogram() +\n",
    "    labs(x = \"Median Age of US Counties\", y = \"Frequency\") +\n",
    "    ggtitle(\"Distribution of Median Age of US Counties\")\n",
    "cancer_plots"
   ]
  },
  {
   "cell_type": "code",
   "execution_count": null,
   "id": "0d91023c-217e-46cf-9bdc-91de038c47aa",
   "metadata": {},
   "outputs": [],
   "source": []
  }
 ],
 "metadata": {
  "kernelspec": {
   "display_name": "R",
   "language": "R",
   "name": "ir"
  },
  "language_info": {
   "codemirror_mode": "r",
   "file_extension": ".r",
   "mimetype": "text/x-r-source",
   "name": "R",
   "pygments_lexer": "r",
   "version": "4.1.3"
  }
 },
 "nbformat": 4,
 "nbformat_minor": 5
}
