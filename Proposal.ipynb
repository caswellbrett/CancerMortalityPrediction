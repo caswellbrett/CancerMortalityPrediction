{
 "cells": [
  {
   "cell_type": "markdown",
   "id": "4f5c1890-7606-4916-8605-0ad210b367bc",
   "metadata": {},
   "source": [
    "Cancer is one of the leading causes of death in the developed world. Therefore, it is crucial that we investigate the links between cancer mortality rates and demographic data in varying counties of the United States. Using a dataset imported from data.world that aggregates data from the American Community Survey, clinicaltrails.gov (a public clinical trial database), and the National Cancer Institute, we hope to predict the cancer mortality rate of a county using demographic data. Our question is the following: if given the median age and income of a county in the United States, what will be the cancer mortality rate of that county? Our claim is that a county with a higher median age and lower median income will lead to higher cancer mortality rates."
   ]
  },
  {
   "cell_type": "code",
   "execution_count": 3,
   "id": "b08be33b-b614-44c3-b918-ba4f6ef49801",
   "metadata": {},
   "outputs": [
    {
     "name": "stderr",
     "output_type": "stream",
     "text": [
      "\u001b[1mRows: \u001b[22m\u001b[34m3047\u001b[39m \u001b[1mColumns: \u001b[22m\u001b[34m34\u001b[39m\n",
      "\u001b[36m──\u001b[39m \u001b[1mColumn specification\u001b[22m \u001b[36m────────────────────────────────────────────────────────\u001b[39m\n",
      "\u001b[1mDelimiter:\u001b[22m \",\"\n",
      "\u001b[31mchr\u001b[39m  (2): binnedInc, Geography\n",
      "\u001b[32mdbl\u001b[39m (32): avgAnnCount, avgDeathsPerYear, TARGET_deathRate, incidenceRate, me...\n",
      "\n",
      "\u001b[36mℹ\u001b[39m Use `spec()` to retrieve the full column specification for this data.\n",
      "\u001b[36mℹ\u001b[39m Specify the column types or set `show_col_types = FALSE` to quiet this message.\n"
     ]
    },
    {
     "data": {
      "text/html": [
       "<table class=\"dataframe\">\n",
       "<caption>A tibble: 6 × 34</caption>\n",
       "<thead>\n",
       "\t<tr><th scope=col>avgAnnCount</th><th scope=col>avgDeathsPerYear</th><th scope=col>TARGET_deathRate</th><th scope=col>incidenceRate</th><th scope=col>medIncome</th><th scope=col>popEst2015</th><th scope=col>povertyPercent</th><th scope=col>studyPerCap</th><th scope=col>binnedInc</th><th scope=col>MedianAge</th><th scope=col>⋯</th><th scope=col>PctPrivateCoverageAlone</th><th scope=col>PctEmpPrivCoverage</th><th scope=col>PctPublicCoverage</th><th scope=col>PctPublicCoverageAlone</th><th scope=col>PctWhite</th><th scope=col>PctBlack</th><th scope=col>PctAsian</th><th scope=col>PctOtherRace</th><th scope=col>PctMarriedHouseholds</th><th scope=col>BirthRate</th></tr>\n",
       "\t<tr><th scope=col>&lt;dbl&gt;</th><th scope=col>&lt;dbl&gt;</th><th scope=col>&lt;dbl&gt;</th><th scope=col>&lt;dbl&gt;</th><th scope=col>&lt;dbl&gt;</th><th scope=col>&lt;dbl&gt;</th><th scope=col>&lt;dbl&gt;</th><th scope=col>&lt;dbl&gt;</th><th scope=col>&lt;chr&gt;</th><th scope=col>&lt;dbl&gt;</th><th scope=col>⋯</th><th scope=col>&lt;dbl&gt;</th><th scope=col>&lt;dbl&gt;</th><th scope=col>&lt;dbl&gt;</th><th scope=col>&lt;dbl&gt;</th><th scope=col>&lt;dbl&gt;</th><th scope=col>&lt;dbl&gt;</th><th scope=col>&lt;dbl&gt;</th><th scope=col>&lt;dbl&gt;</th><th scope=col>&lt;dbl&gt;</th><th scope=col>&lt;dbl&gt;</th></tr>\n",
       "</thead>\n",
       "<tbody>\n",
       "\t<tr><td>1397</td><td>469</td><td>164.9</td><td>489.8</td><td>61898</td><td>260131</td><td>11.2</td><td>499.74820</td><td>(61494.5, 125635] </td><td>39.3</td><td>⋯</td><td>  NA</td><td>41.6</td><td>32.9</td><td>14.0</td><td>81.78053</td><td>2.5947283</td><td>4.8218571</td><td>1.8434785</td><td>52.85608</td><td>6.118831</td></tr>\n",
       "\t<tr><td> 173</td><td> 70</td><td>161.3</td><td>411.6</td><td>48127</td><td> 43269</td><td>18.6</td><td> 23.11123</td><td>(48021.6, 51046.4]</td><td>33.0</td><td>⋯</td><td>53.8</td><td>43.6</td><td>31.1</td><td>15.3</td><td>89.22851</td><td>0.9691025</td><td>2.2462326</td><td>3.7413515</td><td>45.37250</td><td>4.333096</td></tr>\n",
       "\t<tr><td> 102</td><td> 50</td><td>174.7</td><td>349.7</td><td>49348</td><td> 21026</td><td>14.6</td><td> 47.56016</td><td>(48021.6, 51046.4]</td><td>45.0</td><td>⋯</td><td>43.5</td><td>34.9</td><td>42.1</td><td>21.1</td><td>90.92219</td><td>0.7396734</td><td>0.4658982</td><td>2.7473583</td><td>54.44487</td><td>3.729488</td></tr>\n",
       "\t<tr><td> 427</td><td>202</td><td>194.8</td><td>430.4</td><td>44243</td><td> 75882</td><td>17.1</td><td>342.63725</td><td>(42724.4, 45201]  </td><td>42.8</td><td>⋯</td><td>40.3</td><td>35.0</td><td>45.3</td><td>25.0</td><td>91.74469</td><td>0.7826260</td><td>1.1613587</td><td>1.3626432</td><td>51.02151</td><td>4.603841</td></tr>\n",
       "\t<tr><td>  57</td><td> 26</td><td>144.4</td><td>350.1</td><td>49955</td><td> 10321</td><td>12.5</td><td>  0.00000</td><td>(48021.6, 51046.4]</td><td>48.3</td><td>⋯</td><td>43.9</td><td>35.1</td><td>44.0</td><td>22.7</td><td>94.10402</td><td>0.2701920</td><td>0.6658304</td><td>0.4921355</td><td>54.02746</td><td>6.796657</td></tr>\n",
       "\t<tr><td> 428</td><td>152</td><td>176.0</td><td>505.4</td><td>52313</td><td> 61023</td><td>15.6</td><td>180.25990</td><td>(51046.4, 54545.6]</td><td>45.4</td><td>⋯</td><td>38.8</td><td>32.6</td><td>43.2</td><td>20.2</td><td>84.88263</td><td>1.6532052</td><td>1.5380566</td><td>3.3146354</td><td>51.22036</td><td>4.964476</td></tr>\n",
       "</tbody>\n",
       "</table>\n"
      ],
      "text/latex": [
       "A tibble: 6 × 34\n",
       "\\begin{tabular}{lllllllllllllllllllll}\n",
       " avgAnnCount & avgDeathsPerYear & TARGET\\_deathRate & incidenceRate & medIncome & popEst2015 & povertyPercent & studyPerCap & binnedInc & MedianAge & ⋯ & PctPrivateCoverageAlone & PctEmpPrivCoverage & PctPublicCoverage & PctPublicCoverageAlone & PctWhite & PctBlack & PctAsian & PctOtherRace & PctMarriedHouseholds & BirthRate\\\\\n",
       " <dbl> & <dbl> & <dbl> & <dbl> & <dbl> & <dbl> & <dbl> & <dbl> & <chr> & <dbl> & ⋯ & <dbl> & <dbl> & <dbl> & <dbl> & <dbl> & <dbl> & <dbl> & <dbl> & <dbl> & <dbl>\\\\\n",
       "\\hline\n",
       "\t 1397 & 469 & 164.9 & 489.8 & 61898 & 260131 & 11.2 & 499.74820 & (61494.5, 125635{]}  & 39.3 & ⋯ &   NA & 41.6 & 32.9 & 14.0 & 81.78053 & 2.5947283 & 4.8218571 & 1.8434785 & 52.85608 & 6.118831\\\\\n",
       "\t  173 &  70 & 161.3 & 411.6 & 48127 &  43269 & 18.6 &  23.11123 & (48021.6, 51046.4{]} & 33.0 & ⋯ & 53.8 & 43.6 & 31.1 & 15.3 & 89.22851 & 0.9691025 & 2.2462326 & 3.7413515 & 45.37250 & 4.333096\\\\\n",
       "\t  102 &  50 & 174.7 & 349.7 & 49348 &  21026 & 14.6 &  47.56016 & (48021.6, 51046.4{]} & 45.0 & ⋯ & 43.5 & 34.9 & 42.1 & 21.1 & 90.92219 & 0.7396734 & 0.4658982 & 2.7473583 & 54.44487 & 3.729488\\\\\n",
       "\t  427 & 202 & 194.8 & 430.4 & 44243 &  75882 & 17.1 & 342.63725 & (42724.4, 45201{]}   & 42.8 & ⋯ & 40.3 & 35.0 & 45.3 & 25.0 & 91.74469 & 0.7826260 & 1.1613587 & 1.3626432 & 51.02151 & 4.603841\\\\\n",
       "\t   57 &  26 & 144.4 & 350.1 & 49955 &  10321 & 12.5 &   0.00000 & (48021.6, 51046.4{]} & 48.3 & ⋯ & 43.9 & 35.1 & 44.0 & 22.7 & 94.10402 & 0.2701920 & 0.6658304 & 0.4921355 & 54.02746 & 6.796657\\\\\n",
       "\t  428 & 152 & 176.0 & 505.4 & 52313 &  61023 & 15.6 & 180.25990 & (51046.4, 54545.6{]} & 45.4 & ⋯ & 38.8 & 32.6 & 43.2 & 20.2 & 84.88263 & 1.6532052 & 1.5380566 & 3.3146354 & 51.22036 & 4.964476\\\\\n",
       "\\end{tabular}\n"
      ],
      "text/markdown": [
       "\n",
       "A tibble: 6 × 34\n",
       "\n",
       "| avgAnnCount &lt;dbl&gt; | avgDeathsPerYear &lt;dbl&gt; | TARGET_deathRate &lt;dbl&gt; | incidenceRate &lt;dbl&gt; | medIncome &lt;dbl&gt; | popEst2015 &lt;dbl&gt; | povertyPercent &lt;dbl&gt; | studyPerCap &lt;dbl&gt; | binnedInc &lt;chr&gt; | MedianAge &lt;dbl&gt; | ⋯ ⋯ | PctPrivateCoverageAlone &lt;dbl&gt; | PctEmpPrivCoverage &lt;dbl&gt; | PctPublicCoverage &lt;dbl&gt; | PctPublicCoverageAlone &lt;dbl&gt; | PctWhite &lt;dbl&gt; | PctBlack &lt;dbl&gt; | PctAsian &lt;dbl&gt; | PctOtherRace &lt;dbl&gt; | PctMarriedHouseholds &lt;dbl&gt; | BirthRate &lt;dbl&gt; |\n",
       "|---|---|---|---|---|---|---|---|---|---|---|---|---|---|---|---|---|---|---|---|---|\n",
       "| 1397 | 469 | 164.9 | 489.8 | 61898 | 260131 | 11.2 | 499.74820 | (61494.5, 125635]  | 39.3 | ⋯ |   NA | 41.6 | 32.9 | 14.0 | 81.78053 | 2.5947283 | 4.8218571 | 1.8434785 | 52.85608 | 6.118831 |\n",
       "|  173 |  70 | 161.3 | 411.6 | 48127 |  43269 | 18.6 |  23.11123 | (48021.6, 51046.4] | 33.0 | ⋯ | 53.8 | 43.6 | 31.1 | 15.3 | 89.22851 | 0.9691025 | 2.2462326 | 3.7413515 | 45.37250 | 4.333096 |\n",
       "|  102 |  50 | 174.7 | 349.7 | 49348 |  21026 | 14.6 |  47.56016 | (48021.6, 51046.4] | 45.0 | ⋯ | 43.5 | 34.9 | 42.1 | 21.1 | 90.92219 | 0.7396734 | 0.4658982 | 2.7473583 | 54.44487 | 3.729488 |\n",
       "|  427 | 202 | 194.8 | 430.4 | 44243 |  75882 | 17.1 | 342.63725 | (42724.4, 45201]   | 42.8 | ⋯ | 40.3 | 35.0 | 45.3 | 25.0 | 91.74469 | 0.7826260 | 1.1613587 | 1.3626432 | 51.02151 | 4.603841 |\n",
       "|   57 |  26 | 144.4 | 350.1 | 49955 |  10321 | 12.5 |   0.00000 | (48021.6, 51046.4] | 48.3 | ⋯ | 43.9 | 35.1 | 44.0 | 22.7 | 94.10402 | 0.2701920 | 0.6658304 | 0.4921355 | 54.02746 | 6.796657 |\n",
       "|  428 | 152 | 176.0 | 505.4 | 52313 |  61023 | 15.6 | 180.25990 | (51046.4, 54545.6] | 45.4 | ⋯ | 38.8 | 32.6 | 43.2 | 20.2 | 84.88263 | 1.6532052 | 1.5380566 | 3.3146354 | 51.22036 | 4.964476 |\n",
       "\n"
      ],
      "text/plain": [
       "  avgAnnCount avgDeathsPerYear TARGET_deathRate incidenceRate medIncome\n",
       "1 1397        469              164.9            489.8         61898    \n",
       "2  173         70              161.3            411.6         48127    \n",
       "3  102         50              174.7            349.7         49348    \n",
       "4  427        202              194.8            430.4         44243    \n",
       "5   57         26              144.4            350.1         49955    \n",
       "6  428        152              176.0            505.4         52313    \n",
       "  popEst2015 povertyPercent studyPerCap binnedInc          MedianAge ⋯\n",
       "1 260131     11.2           499.74820   (61494.5, 125635]  39.3      ⋯\n",
       "2  43269     18.6            23.11123   (48021.6, 51046.4] 33.0      ⋯\n",
       "3  21026     14.6            47.56016   (48021.6, 51046.4] 45.0      ⋯\n",
       "4  75882     17.1           342.63725   (42724.4, 45201]   42.8      ⋯\n",
       "5  10321     12.5             0.00000   (48021.6, 51046.4] 48.3      ⋯\n",
       "6  61023     15.6           180.25990   (51046.4, 54545.6] 45.4      ⋯\n",
       "  PctPrivateCoverageAlone PctEmpPrivCoverage PctPublicCoverage\n",
       "1   NA                    41.6               32.9             \n",
       "2 53.8                    43.6               31.1             \n",
       "3 43.5                    34.9               42.1             \n",
       "4 40.3                    35.0               45.3             \n",
       "5 43.9                    35.1               44.0             \n",
       "6 38.8                    32.6               43.2             \n",
       "  PctPublicCoverageAlone PctWhite PctBlack  PctAsian  PctOtherRace\n",
       "1 14.0                   81.78053 2.5947283 4.8218571 1.8434785   \n",
       "2 15.3                   89.22851 0.9691025 2.2462326 3.7413515   \n",
       "3 21.1                   90.92219 0.7396734 0.4658982 2.7473583   \n",
       "4 25.0                   91.74469 0.7826260 1.1613587 1.3626432   \n",
       "5 22.7                   94.10402 0.2701920 0.6658304 0.4921355   \n",
       "6 20.2                   84.88263 1.6532052 1.5380566 3.3146354   \n",
       "  PctMarriedHouseholds BirthRate\n",
       "1 52.85608             6.118831 \n",
       "2 45.37250             4.333096 \n",
       "3 54.44487             3.729488 \n",
       "4 51.02151             4.603841 \n",
       "5 54.02746             6.796657 \n",
       "6 51.22036             4.964476 "
      ]
     },
     "metadata": {},
     "output_type": "display_data"
    }
   ],
   "source": [
    "library(tidyverse)\n",
    "\n",
    "url <- \"https://raw.githubusercontent.com/mimilht/dsci100-proj-group70/main/cancer_reg.csv\"\n",
    "cancer_data <- read_csv(url)\n",
    "head(cancer_data)"
   ]
  },
  {
   "cell_type": "code",
   "execution_count": null,
   "id": "2b5254d5-8ec5-461a-a9ce-93768c2cb0db",
   "metadata": {},
   "outputs": [],
   "source": []
  }
 ],
 "metadata": {
  "kernelspec": {
   "display_name": "R",
   "language": "R",
   "name": "ir"
  },
  "language_info": {
   "codemirror_mode": "r",
   "file_extension": ".r",
   "mimetype": "text/x-r-source",
   "name": "R",
   "pygments_lexer": "r",
   "version": "4.1.3"
  }
 },
 "nbformat": 4,
 "nbformat_minor": 5
}
