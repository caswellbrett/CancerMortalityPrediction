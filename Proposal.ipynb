{
 "cells": [
  {
   "cell_type": "markdown",
   "id": "7036c464-a45a-43cf-92c8-2816e35ab425",
   "metadata": {},
   "source": [
    "# Group 70: Project Proposal\n",
    "## Predicting Cancer Mortality Rates Through Varying Demographic Data"
   ]
  },
  {
   "cell_type": "markdown",
   "id": "4f5c1890-7606-4916-8605-0ad210b367bc",
   "metadata": {},
   "source": [
    "### Introduction\n",
    "Cancer is one of the leading causes of death in the developed world. Therefore, it is crucial that we investigate the links between cancer mortality rates and demographic data. Using a dataset imported from data.world that aggregates data from the American Community Survey, clinicaltrails.gov (a public clinical trial database), and the National Cancer Institute, we hope to predict the cancer mortality rate of a county using demographic data. Our question is the following: if given the median age and income of a county in the United States, what will be the cancer mortality rate of that county? Our claim is that a county with a higher median age and lower median income will lead to higher cancer mortality rates.\n",
    "\n",
    "### Loading libraries"
   ]
  },
  {
   "cell_type": "code",
   "execution_count": 73,
   "id": "3a3be193-66c5-4b83-983a-d2ff798c1c85",
   "metadata": {},
   "outputs": [],
   "source": [
    "library(tidyverse) # to perform operations on the data set\n",
    "library(repr) # to set graph plot size and performing some operations on data set\n",
    "library(tidymodels)"
   ]
  },
  {
   "cell_type": "markdown",
   "id": "6fc07933-288a-4803-8316-2e05565dcee9",
   "metadata": {},
   "source": [
    "### Reading data from URL"
   ]
  },
  {
   "cell_type": "code",
   "execution_count": 74,
   "id": "09fa76a8-b4ad-4233-abe8-d01a7d369f3a",
   "metadata": {},
   "outputs": [
    {
     "name": "stderr",
     "output_type": "stream",
     "text": [
      "\u001b[1mRows: \u001b[22m\u001b[34m3047\u001b[39m \u001b[1mColumns: \u001b[22m\u001b[34m34\u001b[39m\n",
      "\u001b[36m──\u001b[39m \u001b[1mColumn specification\u001b[22m \u001b[36m────────────────────────────────────────────────────────\u001b[39m\n",
      "\u001b[1mDelimiter:\u001b[22m \",\"\n",
      "\u001b[31mchr\u001b[39m  (2): binnedInc, Geography\n",
      "\u001b[32mdbl\u001b[39m (32): avgAnnCount, avgDeathsPerYear, TARGET_deathRate, incidenceRate, me...\n",
      "\n",
      "\u001b[36mℹ\u001b[39m Use `spec()` to retrieve the full column specification for this data.\n",
      "\u001b[36mℹ\u001b[39m Specify the column types or set `show_col_types = FALSE` to quiet this message.\n"
     ]
    }
   ],
   "source": [
    "# Reading the training data set from the Web into R\n",
    "url <- \"https://raw.githubusercontent.com/mimilht/dsci100-proj-group70/main/cancer_reg.csv\"\n",
    "cancer_data <- read_csv(url)"
   ]
  },
  {
   "cell_type": "markdown",
   "id": "c3e56847-e154-493c-8c13-3bd347e4e6af",
   "metadata": {},
   "source": [
    "### Cleaning and Wrangling Data into Tidydata Format"
   ]
  },
  {
   "cell_type": "code",
   "execution_count": 75,
   "id": "b08be33b-b614-44c3-b918-ba4f6ef49801",
   "metadata": {},
   "outputs": [
    {
     "data": {
      "text/html": [
       "<table class=\"dataframe\">\n",
       "<caption>A tibble: 6 × 3</caption>\n",
       "<thead>\n",
       "\t<tr><th scope=col>MedianIncome</th><th scope=col>MedianAge</th><th scope=col>DeathsPerCapita</th></tr>\n",
       "\t<tr><th scope=col>&lt;dbl&gt;</th><th scope=col>&lt;dbl&gt;</th><th scope=col>&lt;dbl&gt;</th></tr>\n",
       "</thead>\n",
       "<tbody>\n",
       "\t<tr><td>61898</td><td>39.3</td><td>164.9</td></tr>\n",
       "\t<tr><td>48127</td><td>33.0</td><td>161.3</td></tr>\n",
       "\t<tr><td>49348</td><td>45.0</td><td>174.7</td></tr>\n",
       "\t<tr><td>44243</td><td>42.8</td><td>194.8</td></tr>\n",
       "\t<tr><td>49955</td><td>48.3</td><td>144.4</td></tr>\n",
       "\t<tr><td>52313</td><td>45.4</td><td>176.0</td></tr>\n",
       "</tbody>\n",
       "</table>\n"
      ],
      "text/latex": [
       "A tibble: 6 × 3\n",
       "\\begin{tabular}{lll}\n",
       " MedianIncome & MedianAge & DeathsPerCapita\\\\\n",
       " <dbl> & <dbl> & <dbl>\\\\\n",
       "\\hline\n",
       "\t 61898 & 39.3 & 164.9\\\\\n",
       "\t 48127 & 33.0 & 161.3\\\\\n",
       "\t 49348 & 45.0 & 174.7\\\\\n",
       "\t 44243 & 42.8 & 194.8\\\\\n",
       "\t 49955 & 48.3 & 144.4\\\\\n",
       "\t 52313 & 45.4 & 176.0\\\\\n",
       "\\end{tabular}\n"
      ],
      "text/markdown": [
       "\n",
       "A tibble: 6 × 3\n",
       "\n",
       "| MedianIncome &lt;dbl&gt; | MedianAge &lt;dbl&gt; | DeathsPerCapita &lt;dbl&gt; |\n",
       "|---|---|---|\n",
       "| 61898 | 39.3 | 164.9 |\n",
       "| 48127 | 33.0 | 161.3 |\n",
       "| 49348 | 45.0 | 174.7 |\n",
       "| 44243 | 42.8 | 194.8 |\n",
       "| 49955 | 48.3 | 144.4 |\n",
       "| 52313 | 45.4 | 176.0 |\n",
       "\n"
      ],
      "text/plain": [
       "  MedianIncome MedianAge DeathsPerCapita\n",
       "1 61898        39.3      164.9          \n",
       "2 48127        33.0      161.3          \n",
       "3 49348        45.0      174.7          \n",
       "4 44243        42.8      194.8          \n",
       "5 49955        48.3      144.4          \n",
       "6 52313        45.4      176.0          "
      ]
     },
     "metadata": {},
     "output_type": "display_data"
    }
   ],
   "source": [
    "cancer_data <- cancer_data |> \n",
    "    select(medIncome, MedianAge, TARGET_deathRate) |> # selecting only relevant columns\n",
    "    filter(na.rm = TRUE) |> # removing observations with N/A values\n",
    "    filter(MedianAge <= 100) |> # removing observations with erroneous median age\n",
    "    rename(MedianIncome = medIncome,\n",
    "           DeathsPerCapita = TARGET_deathRate) # renaming columns to consistent format\n",
    "head(cancer_data) # display first 6 rows of data"
   ]
  },
  {
   "cell_type": "markdown",
   "id": "d964f56d-10df-462a-9364-9b23f0a4cb72",
   "metadata": {},
   "source": [
    "### Splitting Dataframe into Training/Testing Data"
   ]
  },
  {
   "cell_type": "code",
   "execution_count": 76,
   "id": "2b5254d5-8ec5-461a-a9ce-93768c2cb0db",
   "metadata": {},
   "outputs": [],
   "source": [
    "cancer_split <- initial_split(cancer_data, prop = 0.75, strata = DeathsPerCapita) \n",
    "# splitting data into 25% testing, 75% training\n",
    "cancer_training <- training(cancer_split)\n",
    "cancer_test <- testing(cancer_split)"
   ]
  },
  {
   "cell_type": "markdown",
   "id": "30728a12-0c77-4e61-9c22-1bed16594e26",
   "metadata": {},
   "source": [
    "### Summarizing Data"
   ]
  },
  {
   "cell_type": "code",
   "execution_count": 77,
   "id": "6f26626c-0448-4f57-b11c-fbdbc172135e",
   "metadata": {},
   "outputs": [
    {
     "data": {
      "text/html": [
       "<style>\n",
       ".dl-inline {width: auto; margin:0; padding: 0}\n",
       ".dl-inline>dt, .dl-inline>dd {float: none; width: auto; display: inline-block}\n",
       ".dl-inline>dt::after {content: \":\\0020\"; padding-right: .5ex}\n",
       ".dl-inline>dt:not(:first-of-type) {padding-left: .5ex}\n",
       "</style><dl class=dl-inline><dt>MedianIncome</dt><dd>2261</dd><dt>MedianAge</dt><dd>2261</dd><dt>DeathsPerCapita</dt><dd>2261</dd></dl>\n"
      ],
      "text/latex": [
       "\\begin{description*}\n",
       "\\item[MedianIncome] 2261\n",
       "\\item[MedianAge] 2261\n",
       "\\item[DeathsPerCapita] 2261\n",
       "\\end{description*}\n"
      ],
      "text/markdown": [
       "MedianIncome\n",
       ":   2261MedianAge\n",
       ":   2261DeathsPerCapita\n",
       ":   2261\n",
       "\n"
      ],
      "text/plain": [
       "   MedianIncome       MedianAge DeathsPerCapita \n",
       "           2261            2261            2261 "
      ]
     },
     "metadata": {},
     "output_type": "display_data"
    }
   ],
   "source": [
    "cancer_count <- colSums(!is.na(cancer_training))\n",
    "cancer_count"
   ]
  },
  {
   "cell_type": "markdown",
   "id": "5199f827-5f61-4ffb-8c2f-3756a100e699",
   "metadata": {},
   "source": [
    "### Visualizing Data"
   ]
  },
  {
   "cell_type": "code",
   "execution_count": 78,
   "id": "ac3d153d-f1ff-4865-8e4b-b9e14451ad65",
   "metadata": {},
   "outputs": [
    {
     "name": "stderr",
     "output_type": "stream",
     "text": [
      "`stat_bin()` using `bins = 30`. Pick better value with `binwidth`.\n",
      "\n",
      "`stat_bin()` using `bins = 30`. Pick better value with `binwidth`.\n",
      "\n"
     ]
    },
    {
     "data": {
      "image/png": "[encoded data removed]",
      "text/plain": [
       "plot without title"
      ]
     },
     "metadata": {
      "image/png": {
       "height": 420,
       "width": 420
      }
     },
     "output_type": "display_data"
    },
    {
     "data": {
      "image/png": "[encoded data removed]",
      "text/plain": [
       "plot without title"
      ]
     },
     "metadata": {
      "image/png": {
       "height": 420,
       "width": 420
      }
     },
     "output_type": "display_data"
    }
   ],
   "source": [
    "cancer_plot_age <- ggplot(cancer_training, aes(x = MedianAge)) +\n",
    "    geom_histogram() +\n",
    "    labs(x = \"Median Age of US Counties\", y = \"Frequency\") +\n",
    "    ggtitle(\"Distribution of Median Age of US Counties\")\n",
    "cancer_plot_income <- ggplot(cancer_training, aes(x = MedianIncome)) +\n",
    "    geom_histogram() +\n",
    "    labs(x = \"Median Income of US Counties\", y = \"Frequency\") +\n",
    "    ggtitle(\"Distribution of Median Income of US Counties (US Dollars)\")\n",
    "cancer_plot_age\n",
    "cancer_plot_income"
   ]
  },
  {
   "cell_type": "markdown",
   "id": "8552c081-20e7-4799-8ae8-b4e27eea804a",
   "metadata": {},
   "source": [
    "### Method:\n",
    "\n",
    "To prepare our data for analysis, we started out with downloading the dataset from the web and publishing the data on our group GitHub. We then pulled the dataset and read it on Jupyter using a URL.\n",
    "\n",
    "Then we decided to select and filter out the columns that are required for our analysis and decided to leave the rest out. We agreed to select the Median_Age and Median_Income columns as predictors in our research. We filtered our data to only contain observations of counties with median ages less than 100 to sieve out faulty and inaccurate data. We also removed cells that have missing data (NA). We also changed the column names to make it more human readable and easier to interpret.\n",
    "\n",
    "The dataset required minimal cleaning as the data was in a relatively tidy format, and there wasn’t any metadata attached in the file nor was there any mismatch of rows and columns.\n",
    "\n",
    "We are using median income/age to predict cancer mortality (average death per year). We hope to analyze our data using a regression model, specifically linear regression. However, if linear regression proves to be inappropriate for predicting the mortality rate, we will consider exploring the use of a KNN regression model.\n",
    "\n",
    "### Sources cited\n",
    "1)"
   ]
  },
  {
   "cell_type": "code",
   "execution_count": null,
   "id": "a28429b7-277e-472d-aa72-89d0611a0b5f",
   "metadata": {},
   "outputs": [],
   "source": []
  }
 ],
 "metadata": {
  "kernelspec": {
   "display_name": "R",
   "language": "R",
   "name": "ir"
  },
  "language_info": {
   "codemirror_mode": "r",
   "file_extension": ".r",
   "mimetype": "text/x-r-source",
   "name": "R",
   "pygments_lexer": "r",
   "version": "4.1.3"
  }
 },
 "nbformat": 4,
 "nbformat_minor": 5
}
