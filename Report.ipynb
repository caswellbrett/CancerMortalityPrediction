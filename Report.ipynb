{
 "cells": [
  {
   "cell_type": "markdown",
   "id": "1778d3f7-d811-4bee-8178-c8ee619f6015",
   "metadata": {},
   "source": [
    "# Group 70: Project Proposal\n",
    "## Predicting Cancer Mortality Rates Through Varying Demographic Data"
   ]
  },
  {
   "cell_type": "code",
   "execution_count": null,
   "id": "ac5c695c-61be-4ab2-922a-4996ba76deba",
   "metadata": {},
   "outputs": [],
   "source": []
  }
 ],
 "metadata": {
  "kernelspec": {
   "display_name": "R",
   "language": "R",
   "name": "ir"
  },
  "language_info": {
   "codemirror_mode": "r",
   "file_extension": ".r",
   "mimetype": "text/x-r-source",
   "name": "R",
   "pygments_lexer": "r",
   "version": "4.1.3"
  }
 },
 "nbformat": 4,
 "nbformat_minor": 5
}
