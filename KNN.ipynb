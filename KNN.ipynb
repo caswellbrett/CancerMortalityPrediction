{
 "cells": [
  {
   "cell_type": "code",
   "execution_count": null,
   "id": "6d2dbf1a-f6ea-4cc7-8a8f-6a8f9aea80a7",
   "metadata": {},
   "outputs": [],
   "source": [
    "# Multivariable KNN regression\n",
    "\n",
    "# Now there are two predictors instead of just one. \n",
    "# Build a new model\n",
    "sacr_recipe <- recipe(price ~ sqft + beds, data = sacramento_train) |>\n",
    "  step_scale(all_predictors()) |>\n",
    "  step_center(all_predictors())\n",
    "sacr_spec <- nearest_neighbor(weight_func = \"rectangular\", \n",
    "                              neighbors = tune()) |>\n",
    "  set_engine(\"kknn\") |>\n",
    "  set_mode(\"regression\")\n",
    "\n",
    "# Use 5-fold cross-validation to choose the number of neighbors via the minimum RMSPE\n",
    "gridvals <- tibble(neighbors = seq(1, 200))\n",
    "\n",
    "sacr_multi <- workflow() |>\n",
    "  add_recipe(sacr_recipe) |>\n",
    "  add_model(sacr_spec) |>\n",
    "  tune_grid(sacr_vfold, grid = gridvals) |>\n",
    "  collect_metrics() |>\n",
    "  filter(.metric == \"rmse\") |>\n",
    "  filter(mean == min(mean))\n",
    "\n",
    "sacr_k <- sacr_multi |>\n",
    "              pull(neighbors)\n",
    "sacr_multi\n",
    "\n",
    "# Retrain the model with the new K value, then use model to make predictions on test data\n",
    "sacr_spec <- nearest_neighbor(weight_func = \"rectangular\", \n",
    "                              neighbors = sacr_k) |>\n",
    "  set_engine(\"kknn\") |>\n",
    "  set_mode(\"regression\")\n",
    "\n",
    "knn_mult_fit <- workflow() |>\n",
    "  add_recipe(sacr_recipe) |>\n",
    "  add_model(sacr_spec) |>\n",
    "  fit(data = sacramento_train)\n",
    "\n",
    "knn_mult_preds <- knn_mult_fit |>\n",
    "  predict(sacramento_test) |>\n",
    "  bind_cols(sacramento_test)\n",
    "\n",
    "knn_mult_mets <- metrics(knn_mult_preds, truth = price, estimate = .pred) |>\n",
    "                     filter(.metric == 'rmse')\n",
    "\n",
    "knn_mult_mets\n"
   ]
  }
 ],
 "metadata": {
  "kernelspec": {
   "display_name": "R",
   "language": "R",
   "name": "ir"
  },
  "language_info": {
   "codemirror_mode": "r",
   "file_extension": ".r",
   "mimetype": "text/x-r-source",
   "name": "R",
   "pygments_lexer": "r",
   "version": "4.1.3"
  }
 },
 "nbformat": 4,
 "nbformat_minor": 5
}
